{
 "cells": [
  {
   "cell_type": "markdown",
   "metadata": {},
   "source": [
    "# Wells Fargo Pricing Data\n",
    "\n",
    "## Description of data\n",
    "\n",
    "The attached data file (skills_test.csv) contains text data pertaining to Wells\n",
    "Fargo, a US bank. This data includes documents sourced from a variety of \n",
    "platforms including Twitter, Facebook, blogs and forums.\n",
    "\n",
    "There are two columns in the data file. `Text` contains exactly that. `label`\n",
    "contains a binary label indicating whether the document is about `pricing` (1)\n",
    "or not (0).\n",
    "\n",
    "## Description of tasks\n",
    "\n",
    "You have two tasks:\n",
    "1) classify documents based on whether or not they discuss pricing\n",
    "2) summarise the dataset\n",
    "\n",
    "These tasks give us insight into your technical and methodological knowledge\n",
    "as well as your curiosity, creativity and ability to pick up new methods \n",
    "quickly. Good luck!\n",
    "\n",
    "#### Task 1: classification\n",
    "\n",
    "Your task, should you choose to accept it, is to correctly classify the \n",
    "documents into classes 0 and 1.\n",
    "\n",
    "It is worth trying not only a variety of classification algorithms (SVM,\n",
    "RandomForest, NaiveBayes, Neural Net etc.) but also a variety of \n",
    "tokenization approaches!\n",
    "\n",
    "We want to see a summary of the techniques you tried and the results you \n",
    "received. We're interested in how you quantify the results of the various \n",
    "techniques that you try too please so don't forget to report that. The F1 \n",
    "score (harmonic mean) is a good option here.\n",
    "\n",
    "#### Task 2: describe & summarise\n",
    "\n",
    "We are also interested in your ability to make sense of the data. Please \n",
    "tell us what's in this dataset? Here are some areas that you might consider \n",
    "looking into to get you started: frequent terms, topics, users, sentiment, \n",
    "etc. "
   ]
  },
  {
   "cell_type": "markdown",
   "metadata": {},
   "source": [
    "**Task 1**"
   ]
  },
  {
   "cell_type": "code",
   "execution_count": null,
   "metadata": {},
   "outputs": [],
   "source": [
    "# importing Libraries\n",
    "\n",
    "import pandas as pd\n",
    "import numpy as np\n",
    "import nltk\n",
    "from sklearn import naive_bayes, svm, model_selection, \n"
   ]
  }
 ],
 "metadata": {
  "kernelspec": {
   "display_name": "Python 3",
   "language": "python",
   "name": "python3"
  },
  "language_info": {
   "codemirror_mode": {
    "name": "ipython",
    "version": 3
   },
   "file_extension": ".py",
   "mimetype": "text/x-python",
   "name": "python",
   "nbconvert_exporter": "python",
   "pygments_lexer": "ipython3",
   "version": "3.6.5"
  },
  "toc": {
   "base_numbering": 1,
   "nav_menu": {},
   "number_sections": true,
   "sideBar": true,
   "skip_h1_title": false,
   "title_cell": "Table of Contents",
   "title_sidebar": "Contents",
   "toc_cell": false,
   "toc_position": {},
   "toc_section_display": true,
   "toc_window_display": false
  }
 },
 "nbformat": 4,
 "nbformat_minor": 2
}
